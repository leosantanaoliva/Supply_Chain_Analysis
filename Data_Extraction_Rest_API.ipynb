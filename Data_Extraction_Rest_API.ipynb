import os
import subprocess

# Set up your Kaggle API key
os.environ["KAGGLE_USERNAME"] = "leonardosantanaol"
os.environ["KAGGLE_KEY"] = "a05f1c3f7db9e29989480d2e43b076ab"

# Download the dataset using the Kaggle API
subprocess.run(["kaggle", "datasets", "download", "-d", "harshsingh2209/supply-chain-analysis"])

# Optionally, unzip the downloaded file
subprocess.run(["unzip", "supply-chain-analysis.zip", "-d", "supply-chain-analysis"])
